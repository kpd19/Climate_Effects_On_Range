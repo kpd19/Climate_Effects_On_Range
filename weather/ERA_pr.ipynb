{
 "cells": [
  {
   "attachments": {},
   "cell_type": "markdown",
   "id": "9fa77067",
   "metadata": {},
   "source": [
    "## Import ERA-5 Total Precipitation and downsample from hourly to daily and monthly "
   ]
  },
  {
   "cell_type": "code",
   "execution_count": null,
   "id": "10e99323",
   "metadata": {},
   "outputs": [],
   "source": [
    "import numpy as np\n",
    "from datetime import datetime\n",
    "import pandas as pd\n",
    "import xarray as xr\n",
    "import flox\n",
    "import glob\n",
    "import os"
   ]
  },
  {
   "cell_type": "code",
   "execution_count": null,
   "id": "eb616cc7",
   "metadata": {},
   "outputs": [],
   "source": [
    "import matplotlib as plt"
   ]
  },
  {
   "cell_type": "code",
   "execution_count": null,
   "id": "5a7a22e0",
   "metadata": {},
   "outputs": [],
   "source": [
    "def sum_df(dataset):\n",
    "    dataset.tp.attrs['units'] = 'm'\n",
    "    sum_daily = dataset.resample(time='D').sum(dim='time')\n",
    "    \n",
    "    sum_daily = sum_daily.rename({'tp':'sum_tp'})\n",
    "    \n",
    "    # faster to do this on the xarray\n",
    "    sum_daily['year'] = sum_daily['time'].dt.strftime('%Y')\n",
    "    sum_daily['month'] = sum_daily['time'].dt.strftime('%B')\n",
    "    sum_daily['day'] = sum_daily['time'].dt.strftime('%d')\n",
    "    \n",
    "    df = sum_daily.to_dataframe()\n",
    "    df = df.reset_index()\n",
    "    \n",
    "    return(df)"
   ]
  },
  {
   "cell_type": "code",
   "execution_count": null,
   "id": "bb5cedb5",
   "metadata": {},
   "outputs": [],
   "source": [
    "model_dir = \"data/\""
   ]
  },
  {
   "cell_type": "code",
   "execution_count": null,
   "id": "97c79b92",
   "metadata": {},
   "outputs": [],
   "source": [
    "state = \"Colorado\"\n",
    "state_code = \"CO\" # \"AZ_new\"\n",
    "yr1 = 2000\n",
    "yr2 = 2009"
   ]
  },
  {
   "cell_type": "code",
   "execution_count": null,
   "id": "89985ea7",
   "metadata": {},
   "outputs": [],
   "source": [
    "f1 = xr.open_dataset(model_dir + \"pr/\" + state_code+\"_pr_\" + str(yr1) + \"-\" + str(yr2) + \".nc\", decode_times = True)"
   ]
  },
  {
   "cell_type": "code",
   "execution_count": null,
   "id": "d6d62e08",
   "metadata": {},
   "outputs": [],
   "source": [
    "df1 = sum_df(f1)"
   ]
  },
  {
   "cell_type": "markdown",
   "id": "6ea97627",
   "metadata": {},
   "source": []
  },
  {
   "cell_type": "code",
   "execution_count": null,
   "id": "4c48c820",
   "metadata": {},
   "outputs": [],
   "source": [
    "df_all = pd.concat([df1])"
   ]
  },
  {
   "cell_type": "code",
   "execution_count": null,
   "id": "915eb66b",
   "metadata": {},
   "outputs": [],
   "source": [
    "df_all.to_csv(\"downsampled/\"+state+\"_pr_\" + str(yr1) + \"-\" + str(yr2) + \".csv\")"
   ]
  },
  {
   "attachments": {},
   "cell_type": "markdown",
   "id": "7fcba76a",
   "metadata": {},
   "source": [
    "### Summary statistics- Converting from daily to monthly total precipitation"
   ]
  },
  {
   "cell_type": "code",
   "execution_count": null,
   "id": "30e32533",
   "metadata": {},
   "outputs": [],
   "source": [
    "year1 = '2000'\n",
    "year2 = '2009'"
   ]
  },
  {
   "cell_type": "code",
   "execution_count": null,
   "id": "7be6044c",
   "metadata": {},
   "outputs": [],
   "source": [
    "def downsample_sums(filename):\n",
    "\n",
    "    dataset = xr.open_dataset(filename)\n",
    "\n",
    "    dataset.tp.attrs['units'] = 'm'\n",
    "    sum_daily = dataset.resample(time='D').sum(dim='time')\n",
    "    \n",
    "    sum_daily = sum_daily.rename({'tp':'sum_tp'})\n",
    "    \n",
    "    # faster to do this on the xarray\n",
    "    sum_daily['year'] = sum_daily['time'].dt.strftime('%Y')\n",
    "    sum_daily['month'] = sum_daily['time'].dt.strftime('%B')\n",
    "    sum_daily['day'] = sum_daily['time'].dt.strftime('%d')\n",
    "    \n",
    "    df = sum_daily.to_dataframe()\n",
    "    df = df.reset_index()\n",
    "\n",
    "    df_means = df.groupby(['latitude','longitude','month','year'])[['sum_tp']].sum()\n",
    "    df_means = df_means.reset_index()\n",
    "    \n",
    "    return(df_means)"
   ]
  },
  {
   "cell_type": "code",
   "execution_count": null,
   "id": "7485019d",
   "metadata": {},
   "outputs": [],
   "source": [
    "def listdir_nohidden(path):\n",
    "    return glob.glob(os.path.join(path, '*'))"
   ]
  },
  {
   "cell_type": "code",
   "execution_count": null,
   "id": "f98a4006",
   "metadata": {},
   "outputs": [],
   "source": [
    "filenames = listdir_nohidden(model_dir + \"pr/\")\n",
    "\n",
    "pr_df = pd.DataFrame()\n",
    "\n",
    "for file in filenames:\n",
    "\n",
    "    pr_df = pr_df.append(downsample_sums(file))\n",
    "\n",
    "pr_df.to_csv(\"downsampled/means_pr_\" + year1 + \"-\" + year2 + \"_ERA5.csv\")\n"
   ]
  },
  {
   "attachments": {},
   "cell_type": "markdown",
   "id": "d4b362a9",
   "metadata": {},
   "source": [
    "# Individual file analysis for new data"
   ]
  },
  {
   "cell_type": "code",
   "execution_count": null,
   "id": "d5459407",
   "metadata": {},
   "outputs": [],
   "source": [
    "dataset = xr.open_dataset(\"/Volumes/My Book/Climate/WUS/WUS_pr_2023.nc\")\n",
    "dataset = dataset.rename({'valid_time' : 'time'})"
   ]
  },
  {
   "cell_type": "code",
   "execution_count": null,
   "id": "c5db1d4a",
   "metadata": {},
   "outputs": [],
   "source": [
    "dataset"
   ]
  },
  {
   "cell_type": "code",
   "execution_count": null,
   "id": "05b8e741",
   "metadata": {},
   "outputs": [],
   "source": [
    "dataset.tp.attrs['units'] = 'm'\n",
    "sum_daily = dataset.resample(time='D').sum(dim='time')\n",
    "\n",
    "sum_daily = sum_daily.rename({'tp':'sum_tp'})\n",
    "\n",
    "# faster to do this on the xarray\n",
    "sum_daily['year'] = sum_daily['time'].dt.strftime('%Y')\n",
    "sum_daily['month'] = sum_daily['time'].dt.strftime('%B')\n",
    "sum_daily['day'] = sum_daily['time'].dt.strftime('%d')\n",
    "\n",
    "df = sum_daily.to_dataframe()\n",
    "df = df.reset_index()\n",
    "\n",
    "df_means = df.groupby(['latitude','longitude','month','year'])[['sum_tp']].sum()\n",
    "df_means = df_means.reset_index()\n"
   ]
  },
  {
   "cell_type": "code",
   "execution_count": null,
   "id": "325de711",
   "metadata": {},
   "outputs": [],
   "source": [
    "df_means.to_csv(\"/Volumes/My Book/Climate/WUS/downsampled/means_pr_2023_DEC_ERA5.csv\")"
   ]
  },
  {
   "attachments": {},
   "cell_type": "markdown",
   "id": "e2c99406",
   "metadata": {},
   "source": [
    "## Precipitation days"
   ]
  },
  {
   "cell_type": "code",
   "execution_count": null,
   "id": "c1621a75",
   "metadata": {},
   "outputs": [],
   "source": [
    "def precip_days(filename):\n",
    "\n",
    "    dataset = xr.open_dataset(filename)\n",
    "\n",
    "    dataset.tp.attrs['units'] = 'm'\n",
    "    sum_daily = dataset.resample(time='D').sum(dim='time')\n",
    "\n",
    "    sum_daily = sum_daily.rename({'tp':'sum_tp'})\n",
    "\n",
    "    # faster to do this on the xarray\n",
    "    dataset['year'] = dataset['time'].dt.strftime('%Y')\n",
    "    dataset['month'] = dataset['time'].dt.strftime('%B')\n",
    "    dataset['day'] = dataset['time'].dt.strftime('%d')\n",
    "\n",
    "    df = dataset.to_dataframe()\n",
    "    df = df.reset_index()\n",
    "\n",
    "    df['precip_days'] = np.where(df['sum_tp'] >=0.01, 1, 0)\n",
    "\n",
    "    precip_days = df.groupby(['latitude','longitude','month','year'])[['precip_days']].sum()\n",
    "\n",
    "    precip_days= precip_days.reset_index()\n",
    "\n",
    "    #return(precip_days)\n"
   ]
  },
  {
   "cell_type": "code",
   "execution_count": null,
   "id": "8ff67f10",
   "metadata": {},
   "outputs": [],
   "source": [
    "def precip_days2(filename):\n",
    "\n",
    "    dataset = xr.open_dataset(filename)\n",
    "\n",
    "    dataset = dataset.rename({'valid_time' : 'time'})\n",
    "\n",
    "    dataset = dataset.reset_coords(names = \"expver\", drop = True)\n",
    "    dataset = dataset.reset_coords(names = \"number\", drop = True)\n",
    "\n",
    "    dataset['latitude'] = dataset['latitude'].astype(np.float32)\n",
    "    dataset['longitude'] = dataset['longitude'].astype(np.float32)\n",
    "\n",
    "    dataset = dataset[['latitude','longitude','time','tp']]\n",
    "\n",
    "    dataset.tp.attrs['units'] = 'm'\n",
    "    #sum_daily = dataset.resample(time='D').sum(dim='time')\n",
    "\n",
    "    #sum_daily = sum_daily.rename({'tp':'sum_tp'})\n",
    "\n",
    "    # faster to do this on the xarray\n",
    "    dataset['year'] = dataset['time'].dt.strftime('%Y')\n",
    "    dataset['month'] = dataset['time'].dt.strftime('%B')\n",
    "    dataset['day'] = dataset['time'].dt.strftime('%d')\n",
    "\n",
    "    df = dataset.to_dataframe()\n",
    "    df = df.reset_index()\n",
    "\n",
    "    sum_daily = df.groupby(['latitude','longitude','month','year','day'])[['tp']].sum()\n",
    "    sum_daily= sum_daily.reset_index()\n",
    "    sum_daily = sum_daily.rename(columns = {'tp':'sum_tp'})\n",
    "\n",
    "    sum_daily['precip_days'] = np.where(sum_daily['sum_tp'] >=0.01, 1, 0)\n",
    "\n",
    "    precip_days = sum_daily.groupby(['latitude','longitude','month','year'])[['precip_days']].sum()\n",
    "\n",
    "    precip_days= precip_days.reset_index()\n",
    "\n",
    "    return(precip_days)\n"
   ]
  },
  {
   "cell_type": "code",
   "execution_count": null,
   "id": "72f994b1",
   "metadata": {},
   "outputs": [],
   "source": [
    "model_dir = \"/Volumes/My Book/Climate/ERA_PR/gaps/ALL_recent2/\"\n",
    "year1 = '2000'\n",
    "year2 = '2024'"
   ]
  },
  {
   "cell_type": "code",
   "execution_count": null,
   "id": "bee77f2a",
   "metadata": {},
   "outputs": [],
   "source": [
    "filenames = listdir_nohidden(model_dir)\n",
    "\n",
    "precip_days_df = pd.DataFrame()\n",
    "\n",
    "for file in filenames:\n",
    "\n",
    "    op = precip_days2(file)\n",
    "\n",
    "    precip_days_df = precip_days_df.append(op)\n",
    "\n",
    "precip_days_df.to_csv(model_dir + \"../downsampled/precip_days_\" + year1 + \"-\" + year2 + \"_ERA5.csv\")\n"
   ]
  },
  {
   "cell_type": "code",
   "execution_count": null,
   "id": "da9983c4",
   "metadata": {},
   "outputs": [],
   "source": [
    "precip_days_df"
   ]
  },
  {
   "cell_type": "code",
   "execution_count": null,
   "id": "bf4fbae0",
   "metadata": {},
   "outputs": [],
   "source": []
  }
 ],
 "metadata": {
  "kernelspec": {
   "display_name": "Python 3 (ipykernel)",
   "language": "python",
   "name": "python3"
  },
  "language_info": {
   "codemirror_mode": {
    "name": "ipython",
    "version": 3
   },
   "file_extension": ".py",
   "mimetype": "text/x-python",
   "name": "python",
   "nbconvert_exporter": "python",
   "pygments_lexer": "ipython3",
   "version": "3.7.13"
  },
  "vscode": {
   "interpreter": {
    "hash": "7f3d861790d663335a24d21a8cd8792fcbfe11b859c172ce0114b7787222c9a7"
   }
  }
 },
 "nbformat": 4,
 "nbformat_minor": 5
}
