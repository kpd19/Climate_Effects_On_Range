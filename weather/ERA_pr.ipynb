{
 "cells": [
  {
   "attachments": {},
   "cell_type": "markdown",
   "id": "9fa77067",
   "metadata": {},
   "source": [
    "## Import ERA-5 Total Precipitation and downsample from hourly to daily and monthly "
   ]
  },
  {
   "cell_type": "code",
   "execution_count": 1,
   "id": "10e99323",
   "metadata": {},
   "outputs": [
    {
     "name": "stderr",
     "output_type": "stream",
     "text": [
      "/Users/katherinedixon/anaconda3/lib/python3.7/site-packages/dask/config.py:161: YAMLLoadWarning: calling yaml.load() without Loader=... is deprecated, as the default Loader is unsafe. Please read https://msg.pyyaml.org/load for full details.\n",
      "  data = yaml.load(f.read()) or {}\n"
     ]
    }
   ],
   "source": [
    "import numpy as np\n",
    "from datetime import datetime\n",
    "import pandas as pd\n",
    "import xarray as xr\n",
    "import flox\n",
    "import glob\n",
    "import os"
   ]
  },
  {
   "cell_type": "code",
   "execution_count": 2,
   "id": "5a7a22e0",
   "metadata": {},
   "outputs": [],
   "source": [
    "def sum_df(dataset):\n",
    "    dataset.tp.attrs['units'] = 'm'\n",
    "    sum_daily = dataset.resample(time='D').sum(dim='time')\n",
    "    \n",
    "    sum_daily = sum_daily.rename({'tp':'sum_tp'})\n",
    "    \n",
    "    # faster to do this on the xarray\n",
    "    sum_daily['year'] = sum_daily['time'].dt.strftime('%Y')\n",
    "    sum_daily['month'] = sum_daily['time'].dt.strftime('%B')\n",
    "    sum_daily['day'] = sum_daily['time'].dt.strftime('%d')\n",
    "    \n",
    "    df = sum_daily.to_dataframe()\n",
    "    df = df.reset_index()\n",
    "    \n",
    "    return(df)"
   ]
  },
  {
   "cell_type": "code",
   "execution_count": 3,
   "id": "bb5cedb5",
   "metadata": {},
   "outputs": [],
   "source": [
    "model_dir = \"data/\""
   ]
  },
  {
   "cell_type": "code",
   "execution_count": 4,
   "id": "97c79b92",
   "metadata": {},
   "outputs": [],
   "source": [
    "state = \"Colorado\"\n",
    "state_code = \"CO\" # \"AZ_new\"\n",
    "yr1 = 2000\n",
    "yr2 = 2009"
   ]
  },
  {
   "cell_type": "code",
   "execution_count": 5,
   "id": "89985ea7",
   "metadata": {},
   "outputs": [],
   "source": [
    "f1 = xr.open_dataset(model_dir + \"pr/\" + state_code+\"_pr_\" + str(yr1) + \"-\" + str(yr2) + \".nc\", decode_times = True)"
   ]
  },
  {
   "cell_type": "code",
   "execution_count": 6,
   "id": "d6d62e08",
   "metadata": {},
   "outputs": [],
   "source": [
    "df1 = sum_df(f1)"
   ]
  },
  {
   "cell_type": "markdown",
   "id": "6ea97627",
   "metadata": {},
   "source": []
  },
  {
   "cell_type": "code",
   "execution_count": 7,
   "id": "4c48c820",
   "metadata": {},
   "outputs": [],
   "source": [
    "df_all = pd.concat([df1])"
   ]
  },
  {
   "cell_type": "code",
   "execution_count": 8,
   "id": "915eb66b",
   "metadata": {},
   "outputs": [],
   "source": [
    "df_all.to_csv(\"downsampled/\"+state+\"_pr_\" + str(yr1) + \"-\" + str(yr2) + \".csv\")"
   ]
  },
  {
   "attachments": {},
   "cell_type": "markdown",
   "id": "7fcba76a",
   "metadata": {},
   "source": [
    "### Summary statistics- Converting from daily to monthly total precipitation"
   ]
  },
  {
   "cell_type": "code",
   "execution_count": 9,
   "id": "30e32533",
   "metadata": {},
   "outputs": [],
   "source": [
    "year1 = '2000'\n",
    "year2 = '2009'"
   ]
  },
  {
   "cell_type": "code",
   "execution_count": 10,
   "id": "7be6044c",
   "metadata": {},
   "outputs": [],
   "source": [
    "def downsample_sums(filename):\n",
    "\n",
    "    dataset = xr.open_dataset(filename)\n",
    "\n",
    "    dataset.tp.attrs['units'] = 'm'\n",
    "    sum_daily = dataset.resample(time='D').sum(dim='time')\n",
    "    \n",
    "    sum_daily = sum_daily.rename({'tp':'sum_tp'})\n",
    "    \n",
    "    # faster to do this on the xarray\n",
    "    sum_daily['year'] = sum_daily['time'].dt.strftime('%Y')\n",
    "    sum_daily['month'] = sum_daily['time'].dt.strftime('%B')\n",
    "    sum_daily['day'] = sum_daily['time'].dt.strftime('%d')\n",
    "    \n",
    "    df = sum_daily.to_dataframe()\n",
    "    df = df.reset_index()\n",
    "\n",
    "    df_means = df.groupby(['latitude','longitude','month','year'])[['sum_tp']].sum()\n",
    "    df_means = df_means.reset_index()\n",
    "    \n",
    "    return(df_means)"
   ]
  },
  {
   "cell_type": "code",
   "execution_count": 11,
   "id": "7485019d",
   "metadata": {},
   "outputs": [],
   "source": [
    "def listdir_nohidden(path):\n",
    "    return glob.glob(os.path.join(path, '*'))"
   ]
  },
  {
   "cell_type": "code",
   "execution_count": 13,
   "id": "f98a4006",
   "metadata": {},
   "outputs": [],
   "source": [
    "filenames = listdir_nohidden(model_dir + \"pr/\")\n",
    "\n",
    "pr_df = pd.DataFrame()\n",
    "\n",
    "for file in filenames:\n",
    "\n",
    "    pr_df = pr_df.append(downsample_sums(file))\n",
    "\n",
    "pr_df.to_csv(\"downsampled/means_pr_\" + year1 + \"-\" + year2 + \"_ERA5.csv\")\n"
   ]
  }
 ],
 "metadata": {
  "kernelspec": {
   "display_name": "Python 3 (ipykernel)",
   "language": "python",
   "name": "python3"
  },
  "language_info": {
   "codemirror_mode": {
    "name": "ipython",
    "version": 3
   },
   "file_extension": ".py",
   "mimetype": "text/x-python",
   "name": "python",
   "nbconvert_exporter": "python",
   "pygments_lexer": "ipython3",
   "version": "3.7.13"
  },
  "vscode": {
   "interpreter": {
    "hash": "7f3d861790d663335a24d21a8cd8792fcbfe11b859c172ce0114b7787222c9a7"
   }
  }
 },
 "nbformat": 4,
 "nbformat_minor": 5
}
