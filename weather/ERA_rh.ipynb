{
 "cells": [
  {
   "attachments": {},
   "cell_type": "markdown",
   "id": "9fa77067",
   "metadata": {},
   "source": [
    "## Import ERA-5 Relative Humidity and downsample from hourly to daily and monthly "
   ]
  },
  {
   "cell_type": "code",
   "execution_count": 1,
   "id": "10e99323",
   "metadata": {},
   "outputs": [
    {
     "name": "stderr",
     "output_type": "stream",
     "text": [
      "/Users/katherinedixon/anaconda3/lib/python3.7/site-packages/dask/config.py:161: YAMLLoadWarning: calling yaml.load() without Loader=... is deprecated, as the default Loader is unsafe. Please read https://msg.pyyaml.org/load for full details.\n",
      "  data = yaml.load(f.read()) or {}\n"
     ]
    }
   ],
   "source": [
    "import numpy as np\n",
    "from datetime import datetime\n",
    "import pandas as pd\n",
    "import xarray as xr\n",
    "import flox\n",
    "import glob\n",
    "import os"
   ]
  },
  {
   "cell_type": "code",
   "execution_count": 2,
   "id": "8b41b25d",
   "metadata": {},
   "outputs": [],
   "source": [
    "def listdir_nohidden(path):\n",
    "    return glob.glob(os.path.join(path, '*'))"
   ]
  },
  {
   "cell_type": "code",
   "execution_count": 3,
   "id": "75336124",
   "metadata": {},
   "outputs": [],
   "source": [
    "def downsample_df(dataset):\n",
    "    max_daily = dataset.resample(time='D').max(dim='time')\n",
    "    min_daily = dataset.resample(time='D').min(dim='time')\n",
    "    mean_daily = dataset.resample(time='D').mean(dim='time')\n",
    "    \n",
    "    max_daily = max_daily.rename({'r':'max_rh'})\n",
    "    min_daily = min_daily.rename({'r':'min_rh'})\n",
    "    mean_daily = mean_daily.rename({'r':'mean_rh'})\n",
    "    \n",
    "    merged_data = xr.merge([max_daily,min_daily,mean_daily])\n",
    "    \n",
    "    # faster to do this on the xarray\n",
    "    merged_data['year'] = merged_data['time'].dt.strftime('%Y')\n",
    "    merged_data['month'] = merged_data['time'].dt.strftime('%B')\n",
    "    merged_data['day'] = merged_data['time'].dt.strftime('%d')\n",
    "    \n",
    "    df = merged_data.to_dataframe()\n",
    "    df = df.reset_index()\n",
    "    \n",
    "    return(df)"
   ]
  },
  {
   "cell_type": "code",
   "execution_count": 4,
   "id": "f789da74",
   "metadata": {},
   "outputs": [],
   "source": [
    "model_dir = \"data/\""
   ]
  },
  {
   "cell_type": "code",
   "execution_count": 5,
   "id": "999e045c",
   "metadata": {},
   "outputs": [],
   "source": [
    "state = \"Colorado\"\n",
    "state_code = \"CO\" # \"AZ_new\"\n",
    "yr1 = 2000\n",
    "yr2 = 2009"
   ]
  },
  {
   "cell_type": "code",
   "execution_count": 6,
   "id": "89985ea7",
   "metadata": {},
   "outputs": [],
   "source": [
    "f1 = xr.open_dataset(model_dir + \"rh/\" + state_code+\"_rh_\" + str(yr1) + \"-\" + str(yr2) + \".nc\", decode_times = True)"
   ]
  },
  {
   "cell_type": "code",
   "execution_count": 7,
   "id": "6068cfea",
   "metadata": {},
   "outputs": [],
   "source": [
    "df1 = downsample_df(f1)"
   ]
  },
  {
   "cell_type": "code",
   "execution_count": 8,
   "id": "f4090203",
   "metadata": {},
   "outputs": [],
   "source": [
    "df_all = pd.concat([df1])"
   ]
  },
  {
   "cell_type": "code",
   "execution_count": 9,
   "id": "5adb5ef8",
   "metadata": {},
   "outputs": [],
   "source": [
    "df_all.to_csv(\"downsampled/\"+state+\"_rh_\" + str(yr1) + \"-\" + str(yr2) + \".csv\")"
   ]
  },
  {
   "attachments": {},
   "cell_type": "markdown",
   "id": "092d32b8",
   "metadata": {},
   "source": [
    "### Summary statistics- Converting from daily to monthly mean, maximum, and minimum relative humidity"
   ]
  },
  {
   "cell_type": "code",
   "execution_count": 10,
   "id": "b395ca83",
   "metadata": {},
   "outputs": [],
   "source": [
    "year1 = '2000'\n",
    "year2 = '2009'"
   ]
  },
  {
   "cell_type": "code",
   "execution_count": 11,
   "id": "0202e5f1",
   "metadata": {},
   "outputs": [],
   "source": [
    "def downsample_rh(filename):\n",
    "\n",
    "    dataset = xr.open_dataset(filename)\n",
    "\n",
    "    max_daily = dataset.resample(time='D').max(dim='time')\n",
    "    min_daily = dataset.resample(time='D').min(dim='time')\n",
    "    mean_daily = dataset.resample(time='D').mean(dim='time')\n",
    "    \n",
    "    max_daily = max_daily.rename({'r':'max_rh'})\n",
    "    min_daily = min_daily.rename({'r':'min_rh'})\n",
    "    mean_daily = mean_daily.rename({'r':'mean_rh'})\n",
    "    \n",
    "    merged_data = xr.merge([max_daily,min_daily,mean_daily])\n",
    "    \n",
    "    # faster to do this on the xarray\n",
    "    merged_data['year'] = merged_data['time'].dt.strftime('%Y')\n",
    "    merged_data['month'] = merged_data['time'].dt.strftime('%B')\n",
    "    merged_data['day'] = merged_data['time'].dt.strftime('%d')\n",
    "    \n",
    "    df = merged_data.to_dataframe()\n",
    "    df = df.reset_index()\n",
    "\n",
    "    df_means = df.groupby(['latitude','longitude','month','year'])[['mean_rh']].mean()\n",
    "    df_means = df_means.reset_index()\n",
    "    \n",
    "    return(df_means)"
   ]
  },
  {
   "cell_type": "code",
   "execution_count": 12,
   "id": "22e36d39",
   "metadata": {},
   "outputs": [],
   "source": [
    "filenames = listdir_nohidden(model_dir + 'rh/')\n",
    "\n",
    "hurs_df = pd.DataFrame()\n",
    "\n",
    "for file in filenames:\n",
    "\n",
    "    hurs_df = hurs_df.append(downsample_rh(file))\n",
    "\n",
    "hurs_df.to_csv(\"downsampled/means_rh_\" + year1 + \"-\" + year2 + \"_ERA5.csv\")\n"
   ]
  }
 ],
 "metadata": {
  "kernelspec": {
   "display_name": "base",
   "language": "python",
   "name": "python3"
  },
  "language_info": {
   "codemirror_mode": {
    "name": "ipython",
    "version": 3
   },
   "file_extension": ".py",
   "mimetype": "text/x-python",
   "name": "python",
   "nbconvert_exporter": "python",
   "pygments_lexer": "ipython3",
   "version": "3.7.13"
  },
  "vscode": {
   "interpreter": {
    "hash": "7f3d861790d663335a24d21a8cd8792fcbfe11b859c172ce0114b7787222c9a7"
   }
  }
 },
 "nbformat": 4,
 "nbformat_minor": 5
}
