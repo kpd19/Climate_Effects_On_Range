{
 "cells": [
  {
   "cell_type": "markdown",
   "id": "9fa77067",
   "metadata": {},
   "source": [
    "# Import ERA-5 Climate data and filter by trap locations to reduce size"
   ]
  },
  {
   "cell_type": "code",
   "execution_count": 1,
   "id": "10e99323",
   "metadata": {},
   "outputs": [],
   "source": [
    "import numpy as np\n",
    "from datetime import datetime"
   ]
  },
  {
   "cell_type": "code",
   "execution_count": 2,
   "id": "faedd288",
   "metadata": {},
   "outputs": [],
   "source": [
    "import pandas as pd"
   ]
  },
  {
   "cell_type": "code",
   "execution_count": 3,
   "id": "ccfe17d4",
   "metadata": {},
   "outputs": [
    {
     "name": "stderr",
     "output_type": "stream",
     "text": [
      "/Users/katherinedixon/anaconda3/lib/python3.7/site-packages/dask/config.py:161: YAMLLoadWarning: calling yaml.load() without Loader=... is deprecated, as the default Loader is unsafe. Please read https://msg.pyyaml.org/load for full details.\n",
      "  data = yaml.load(f.read()) or {}\n"
     ]
    }
   ],
   "source": [
    "import xarray as xr\n",
    "import flox"
   ]
  },
  {
   "cell_type": "code",
   "execution_count": 4,
   "id": "999e045c",
   "metadata": {},
   "outputs": [],
   "source": [
    "state = \"CA\"\n",
    "state_code = \"CA\""
   ]
  },
  {
   "cell_type": "code",
   "execution_count": 13,
   "id": "89985ea7",
   "metadata": {},
   "outputs": [],
   "source": [
    "f80 = xr.open_dataset(\"/Volumes/My Book/Climate/ERA_RH/\"+state_code+\"_RH_1980-1989.nc\", decode_times = True)\n",
    "f90 = xr.open_dataset(\"/Volumes/My Book/Climate/ERA_RH/\"+state_code+\"_RH_1990-1999.nc\", decode_times = True)\n",
    "#f00 = xr.open_dataset(\"/Volumes/My Book/Climate/ERA_RH/\"+state_code+\"_RH_2000-2009.nc\", decode_times = True)\n",
    "f10 = xr.open_dataset(\"/Volumes/My Book/Climate/ERA_RH/\"+state_code+\"_RH_2010-2020.nc\", decode_times = True)\n",
    "#f20 = xr.open_dataset(\"/Volumes/My Book/Climate/ERA_RH/\"+state_code+\"_RH_2021-2023.nc\", decode_times = True)"
   ]
  },
  {
   "cell_type": "code",
   "execution_count": 14,
   "id": "6068cfea",
   "metadata": {},
   "outputs": [],
   "source": [
    "ca00 = xr.open_dataset(\"/Volumes/My Book/Climate/ERA_RH/missing/\"+state_code+\"_RH_2000.nc\", decode_times = True)\n",
    "ca01 = xr.open_dataset(\"/Volumes/My Book/Climate/ERA_RH/missing/\"+state_code+\"_RH_2001.nc\", decode_times = True)\n",
    "ca02 = xr.open_dataset(\"/Volumes/My Book/Climate/ERA_RH/missing/\"+state_code+\"_RH_2002.nc\", decode_times = True)\n",
    "ca03 = xr.open_dataset(\"/Volumes/My Book/Climate/ERA_RH/missing/\"+state_code+\"_RH_2003.nc\", decode_times = True)\n",
    "ca04 = xr.open_dataset(\"/Volumes/My Book/Climate/ERA_RH/missing/\"+state_code+\"_RH_2004.nc\", decode_times = True)\n",
    "ca05 = xr.open_dataset(\"/Volumes/My Book/Climate/ERA_RH/missing/\"+state_code+\"_RH_2005.nc\", decode_times = True)\n",
    "ca06 = xr.open_dataset(\"/Volumes/My Book/Climate/ERA_RH/missing/\"+state_code+\"_RH_2006.nc\", decode_times = True)\n",
    "ca07 = xr.open_dataset(\"/Volumes/My Book/Climate/ERA_RH/missing/\"+state_code+\"_RH_2007.nc\", decode_times = True)\n",
    "ca08 = xr.open_dataset(\"/Volumes/My Book/Climate/ERA_RH/missing/\"+state_code+\"_RH_2008.nc\", decode_times = True)\n",
    "ca09 = xr.open_dataset(\"/Volumes/My Book/Climate/ERA_RH/missing/\"+state_code+\"_RH_2009.nc\", decode_times = True)"
   ]
  },
  {
   "cell_type": "code",
   "execution_count": 15,
   "id": "f4090203",
   "metadata": {},
   "outputs": [],
   "source": [
    "f00 = xr.merge([ca00,ca01,ca02,ca03,ca04,ca05,ca06,ca07,ca08,ca09])"
   ]
  },
  {
   "cell_type": "code",
   "execution_count": 16,
   "id": "75336124",
   "metadata": {},
   "outputs": [],
   "source": [
    "def downsample_df(dataset):\n",
    "    max_daily = dataset.resample(time='D').max(dim='time')\n",
    "    min_daily = dataset.resample(time='D').min(dim='time')\n",
    "    mean_daily = dataset.resample(time='D').mean(dim='time')\n",
    "    \n",
    "    max_daily = max_daily.rename({'r':'max_rh'})\n",
    "    min_daily = min_daily.rename({'r':'min_rh'})\n",
    "    mean_daily = mean_daily.rename({'r':'mean_rh'})\n",
    "    \n",
    "    merged_data = xr.merge([max_daily,min_daily,mean_daily])\n",
    "    \n",
    "    # faster to do this on the xarray\n",
    "    merged_data['year'] = merged_data['time'].dt.strftime('%Y')\n",
    "    merged_data['month'] = merged_data['time'].dt.strftime('%B')\n",
    "    merged_data['day'] = merged_data['time'].dt.strftime('%d')\n",
    "    \n",
    "    df = merged_data.to_dataframe()\n",
    "    df = df.reset_index()\n",
    "    \n",
    "    return(df)"
   ]
  },
  {
   "cell_type": "code",
   "execution_count": 17,
   "id": "d6d62e08",
   "metadata": {},
   "outputs": [],
   "source": [
    "df80 = downsample_df(f80)\n",
    "df90 = downsample_df(f90)\n",
    "df00 = downsample_df(f00)\n",
    "df10 = downsample_df(f10)\n",
    "#df20 = downsample_df(f20)\n"
   ]
  },
  {
   "cell_type": "code",
   "execution_count": 18,
   "id": "5adb5ef8",
   "metadata": {},
   "outputs": [],
   "source": [
    "df_all = pd.concat([df80,df90,df00,df10])"
   ]
  },
  {
   "cell_type": "code",
   "execution_count": 19,
   "id": "55f1d423",
   "metadata": {},
   "outputs": [
    {
     "data": {
      "text/html": [
       "<div>\n",
       "<style scoped>\n",
       "    .dataframe tbody tr th:only-of-type {\n",
       "        vertical-align: middle;\n",
       "    }\n",
       "\n",
       "    .dataframe tbody tr th {\n",
       "        vertical-align: top;\n",
       "    }\n",
       "\n",
       "    .dataframe thead th {\n",
       "        text-align: right;\n",
       "    }\n",
       "</style>\n",
       "<table border=\"1\" class=\"dataframe\">\n",
       "  <thead>\n",
       "    <tr style=\"text-align: right;\">\n",
       "      <th></th>\n",
       "      <th>time</th>\n",
       "      <th>longitude</th>\n",
       "      <th>latitude</th>\n",
       "      <th>max_rh</th>\n",
       "      <th>min_rh</th>\n",
       "      <th>mean_rh</th>\n",
       "      <th>year</th>\n",
       "      <th>month</th>\n",
       "      <th>day</th>\n",
       "    </tr>\n",
       "  </thead>\n",
       "  <tbody>\n",
       "    <tr>\n",
       "      <th>0</th>\n",
       "      <td>1979-01-01</td>\n",
       "      <td>-122.0</td>\n",
       "      <td>42.00</td>\n",
       "      <td>77.785233</td>\n",
       "      <td>24.227005</td>\n",
       "      <td>59.368000</td>\n",
       "      <td>1979</td>\n",
       "      <td>January</td>\n",
       "      <td>01</td>\n",
       "    </tr>\n",
       "    <tr>\n",
       "      <th>1</th>\n",
       "      <td>1979-01-01</td>\n",
       "      <td>-122.0</td>\n",
       "      <td>41.75</td>\n",
       "      <td>83.191093</td>\n",
       "      <td>24.293053</td>\n",
       "      <td>60.565022</td>\n",
       "      <td>1979</td>\n",
       "      <td>January</td>\n",
       "      <td>01</td>\n",
       "    </tr>\n",
       "    <tr>\n",
       "      <th>2</th>\n",
       "      <td>1979-01-01</td>\n",
       "      <td>-122.0</td>\n",
       "      <td>41.50</td>\n",
       "      <td>87.948494</td>\n",
       "      <td>20.730507</td>\n",
       "      <td>59.525364</td>\n",
       "      <td>1979</td>\n",
       "      <td>January</td>\n",
       "      <td>01</td>\n",
       "    </tr>\n",
       "    <tr>\n",
       "      <th>3</th>\n",
       "      <td>1979-01-01</td>\n",
       "      <td>-122.0</td>\n",
       "      <td>41.25</td>\n",
       "      <td>67.810120</td>\n",
       "      <td>15.772968</td>\n",
       "      <td>45.791149</td>\n",
       "      <td>1979</td>\n",
       "      <td>January</td>\n",
       "      <td>01</td>\n",
       "    </tr>\n",
       "    <tr>\n",
       "      <th>4</th>\n",
       "      <td>1979-01-01</td>\n",
       "      <td>-122.0</td>\n",
       "      <td>41.00</td>\n",
       "      <td>60.426846</td>\n",
       "      <td>21.386978</td>\n",
       "      <td>42.997654</td>\n",
       "      <td>1979</td>\n",
       "      <td>January</td>\n",
       "      <td>01</td>\n",
       "    </tr>\n",
       "    <tr>\n",
       "      <th>...</th>\n",
       "      <td>...</td>\n",
       "      <td>...</td>\n",
       "      <td>...</td>\n",
       "      <td>...</td>\n",
       "      <td>...</td>\n",
       "      <td>...</td>\n",
       "      <td>...</td>\n",
       "      <td>...</td>\n",
       "      <td>...</td>\n",
       "    </tr>\n",
       "    <tr>\n",
       "      <th>3314845</th>\n",
       "      <td>2020-12-31</td>\n",
       "      <td>-116.0</td>\n",
       "      <td>35.00</td>\n",
       "      <td>28.615780</td>\n",
       "      <td>13.736099</td>\n",
       "      <td>22.055258</td>\n",
       "      <td>2020</td>\n",
       "      <td>December</td>\n",
       "      <td>31</td>\n",
       "    </tr>\n",
       "    <tr>\n",
       "      <th>3314846</th>\n",
       "      <td>2020-12-31</td>\n",
       "      <td>-116.0</td>\n",
       "      <td>34.75</td>\n",
       "      <td>36.376366</td>\n",
       "      <td>14.314865</td>\n",
       "      <td>24.266251</td>\n",
       "      <td>2020</td>\n",
       "      <td>December</td>\n",
       "      <td>31</td>\n",
       "    </tr>\n",
       "    <tr>\n",
       "      <th>3314847</th>\n",
       "      <td>2020-12-31</td>\n",
       "      <td>-116.0</td>\n",
       "      <td>34.50</td>\n",
       "      <td>36.567387</td>\n",
       "      <td>12.746780</td>\n",
       "      <td>24.855827</td>\n",
       "      <td>2020</td>\n",
       "      <td>December</td>\n",
       "      <td>31</td>\n",
       "    </tr>\n",
       "    <tr>\n",
       "      <th>3314848</th>\n",
       "      <td>2020-12-31</td>\n",
       "      <td>-116.0</td>\n",
       "      <td>34.25</td>\n",
       "      <td>32.453308</td>\n",
       "      <td>10.765297</td>\n",
       "      <td>23.351297</td>\n",
       "      <td>2020</td>\n",
       "      <td>December</td>\n",
       "      <td>31</td>\n",
       "    </tr>\n",
       "    <tr>\n",
       "      <th>3314849</th>\n",
       "      <td>2020-12-31</td>\n",
       "      <td>-116.0</td>\n",
       "      <td>34.00</td>\n",
       "      <td>27.791824</td>\n",
       "      <td>9.758873</td>\n",
       "      <td>20.721548</td>\n",
       "      <td>2020</td>\n",
       "      <td>December</td>\n",
       "      <td>31</td>\n",
       "    </tr>\n",
       "  </tbody>\n",
       "</table>\n",
       "<p>12656325 rows × 9 columns</p>\n",
       "</div>"
      ],
      "text/plain": [
       "              time  longitude  latitude     max_rh     min_rh    mean_rh  \\\n",
       "0       1979-01-01     -122.0     42.00  77.785233  24.227005  59.368000   \n",
       "1       1979-01-01     -122.0     41.75  83.191093  24.293053  60.565022   \n",
       "2       1979-01-01     -122.0     41.50  87.948494  20.730507  59.525364   \n",
       "3       1979-01-01     -122.0     41.25  67.810120  15.772968  45.791149   \n",
       "4       1979-01-01     -122.0     41.00  60.426846  21.386978  42.997654   \n",
       "...            ...        ...       ...        ...        ...        ...   \n",
       "3314845 2020-12-31     -116.0     35.00  28.615780  13.736099  22.055258   \n",
       "3314846 2020-12-31     -116.0     34.75  36.376366  14.314865  24.266251   \n",
       "3314847 2020-12-31     -116.0     34.50  36.567387  12.746780  24.855827   \n",
       "3314848 2020-12-31     -116.0     34.25  32.453308  10.765297  23.351297   \n",
       "3314849 2020-12-31     -116.0     34.00  27.791824   9.758873  20.721548   \n",
       "\n",
       "         year     month day  \n",
       "0        1979   January  01  \n",
       "1        1979   January  01  \n",
       "2        1979   January  01  \n",
       "3        1979   January  01  \n",
       "4        1979   January  01  \n",
       "...       ...       ...  ..  \n",
       "3314845  2020  December  31  \n",
       "3314846  2020  December  31  \n",
       "3314847  2020  December  31  \n",
       "3314848  2020  December  31  \n",
       "3314849  2020  December  31  \n",
       "\n",
       "[12656325 rows x 9 columns]"
      ]
     },
     "execution_count": 19,
     "metadata": {},
     "output_type": "execute_result"
    }
   ],
   "source": [
    "df_all"
   ]
  },
  {
   "cell_type": "code",
   "execution_count": 20,
   "id": "03d34d44",
   "metadata": {},
   "outputs": [],
   "source": [
    "df_all.to_csv(\"/Volumes/My Book/Climate/ERA_RH/downsampled/\"+state+\"_RH_allyears.csv\")"
   ]
  },
  {
   "cell_type": "markdown",
   "id": "213cb683",
   "metadata": {},
   "source": [
    "### Filtering by traps in the state"
   ]
  },
  {
   "cell_type": "code",
   "execution_count": 5,
   "id": "a8708d67",
   "metadata": {},
   "outputs": [],
   "source": [
    "trap_data = pd.read_csv(\"/Volumes/My Book/Synchrony/_data/ll_info_23.csv\")"
   ]
  },
  {
   "cell_type": "code",
   "execution_count": 6,
   "id": "e71a2296",
   "metadata": {},
   "outputs": [],
   "source": [
    "cali_data = pd.read_csv(\"/Volumes/My Book/Climate/ERA_RH/downsampled/California_RH_allyears.csv\")\n",
    "colo_data = pd.read_csv(\"/Volumes/My Book/Climate/ERA_RH/downsampled/Colorado_RH_allyears.csv\")\n",
    "pnw_data = pd.read_csv(\"/Volumes/My Book/Climate/ERA_RH/downsampled/PNW_RH_allyears.csv\")\n",
    "ari_data = pd.read_csv(\"/Volumes/My Book/Climate/ERA_RH/downsampled/Arizona_RH_allyears.csv\")\n",
    "newm_data = pd.read_csv(\"/Volumes/My Book/Climate/ERA_RH/downsampled/NewMexico_RH_allyears.csv\")"
   ]
  },
  {
   "cell_type": "code",
   "execution_count": 7,
   "id": "5aee5d8b",
   "metadata": {},
   "outputs": [],
   "source": [
    "df_all = pd.concat([cali_data,colo_data,pnw_data,ari_data,newm_data])"
   ]
  },
  {
   "cell_type": "code",
   "execution_count": 8,
   "id": "776e9071",
   "metadata": {},
   "outputs": [],
   "source": [
    "state_df = trap_data.reset_index(drop=True)"
   ]
  },
  {
   "cell_type": "code",
   "execution_count": 9,
   "id": "40309ac8",
   "metadata": {},
   "outputs": [
    {
     "data": {
      "text/html": [
       "<div>\n",
       "<style scoped>\n",
       "    .dataframe tbody tr th:only-of-type {\n",
       "        vertical-align: middle;\n",
       "    }\n",
       "\n",
       "    .dataframe tbody tr th {\n",
       "        vertical-align: top;\n",
       "    }\n",
       "\n",
       "    .dataframe thead th {\n",
       "        text-align: right;\n",
       "    }\n",
       "</style>\n",
       "<table border=\"1\" class=\"dataframe\">\n",
       "  <thead>\n",
       "    <tr style=\"text-align: right;\">\n",
       "      <th></th>\n",
       "      <th>State</th>\n",
       "      <th>manual_id</th>\n",
       "      <th>lat</th>\n",
       "      <th>lon</th>\n",
       "      <th>years_trapped</th>\n",
       "    </tr>\n",
       "  </thead>\n",
       "  <tbody>\n",
       "    <tr>\n",
       "      <th>0</th>\n",
       "      <td>AZ</td>\n",
       "      <td>2</td>\n",
       "      <td>34.452258</td>\n",
       "      <td>-111.378428</td>\n",
       "      <td>15</td>\n",
       "    </tr>\n",
       "    <tr>\n",
       "      <th>1</th>\n",
       "      <td>AZ</td>\n",
       "      <td>15</td>\n",
       "      <td>34.429790</td>\n",
       "      <td>-111.261416</td>\n",
       "      <td>20</td>\n",
       "    </tr>\n",
       "    <tr>\n",
       "      <th>2</th>\n",
       "      <td>AZ</td>\n",
       "      <td>22</td>\n",
       "      <td>33.861750</td>\n",
       "      <td>-110.943743</td>\n",
       "      <td>18</td>\n",
       "    </tr>\n",
       "    <tr>\n",
       "      <th>3</th>\n",
       "      <td>AZ</td>\n",
       "      <td>31</td>\n",
       "      <td>33.816588</td>\n",
       "      <td>-110.926355</td>\n",
       "      <td>15</td>\n",
       "    </tr>\n",
       "    <tr>\n",
       "      <th>4</th>\n",
       "      <td>AZ</td>\n",
       "      <td>32</td>\n",
       "      <td>33.812968</td>\n",
       "      <td>-110.905213</td>\n",
       "      <td>2</td>\n",
       "    </tr>\n",
       "    <tr>\n",
       "      <th>...</th>\n",
       "      <td>...</td>\n",
       "      <td>...</td>\n",
       "      <td>...</td>\n",
       "      <td>...</td>\n",
       "      <td>...</td>\n",
       "    </tr>\n",
       "    <tr>\n",
       "      <th>1771</th>\n",
       "      <td>ID</td>\n",
       "      <td>2405</td>\n",
       "      <td>45.897575</td>\n",
       "      <td>-115.555061</td>\n",
       "      <td>4</td>\n",
       "    </tr>\n",
       "    <tr>\n",
       "      <th>1772</th>\n",
       "      <td>ID</td>\n",
       "      <td>2406</td>\n",
       "      <td>45.861841</td>\n",
       "      <td>-115.385300</td>\n",
       "      <td>4</td>\n",
       "    </tr>\n",
       "    <tr>\n",
       "      <th>1773</th>\n",
       "      <td>ID</td>\n",
       "      <td>2407</td>\n",
       "      <td>45.826436</td>\n",
       "      <td>-115.629222</td>\n",
       "      <td>4</td>\n",
       "    </tr>\n",
       "    <tr>\n",
       "      <th>1774</th>\n",
       "      <td>ID</td>\n",
       "      <td>2408</td>\n",
       "      <td>45.893359</td>\n",
       "      <td>-115.623524</td>\n",
       "      <td>4</td>\n",
       "    </tr>\n",
       "    <tr>\n",
       "      <th>1775</th>\n",
       "      <td>ID</td>\n",
       "      <td>2409</td>\n",
       "      <td>45.617810</td>\n",
       "      <td>-116.370620</td>\n",
       "      <td>7</td>\n",
       "    </tr>\n",
       "  </tbody>\n",
       "</table>\n",
       "<p>1776 rows × 5 columns</p>\n",
       "</div>"
      ],
      "text/plain": [
       "     State  manual_id        lat         lon  years_trapped\n",
       "0       AZ          2  34.452258 -111.378428             15\n",
       "1       AZ         15  34.429790 -111.261416             20\n",
       "2       AZ         22  33.861750 -110.943743             18\n",
       "3       AZ         31  33.816588 -110.926355             15\n",
       "4       AZ         32  33.812968 -110.905213              2\n",
       "...    ...        ...        ...         ...            ...\n",
       "1771    ID       2405  45.897575 -115.555061              4\n",
       "1772    ID       2406  45.861841 -115.385300              4\n",
       "1773    ID       2407  45.826436 -115.629222              4\n",
       "1774    ID       2408  45.893359 -115.623524              4\n",
       "1775    ID       2409  45.617810 -116.370620              7\n",
       "\n",
       "[1776 rows x 5 columns]"
      ]
     },
     "execution_count": 9,
     "metadata": {},
     "output_type": "execute_result"
    }
   ],
   "source": [
    "state_df"
   ]
  },
  {
   "cell_type": "code",
   "execution_count": 11,
   "id": "4353735a",
   "metadata": {},
   "outputs": [
    {
     "name": "stdout",
     "output_type": "stream",
     "text": [
      "0       34.452258\n",
      "1       34.429790\n",
      "2       33.861750\n",
      "3       33.816588\n",
      "4       33.812968\n",
      "          ...    \n",
      "1771    45.897575\n",
      "1772    45.861841\n",
      "1773    45.826436\n",
      "1774    45.893359\n",
      "1775    45.617810\n",
      "Name: lat, Length: 1776, dtype: float64\n"
     ]
    }
   ],
   "source": [
    "trap_lats = state_df.lat\n",
    "trap_lons = state_df.lon\n",
    "\n",
    "print(trap_lats)"
   ]
  },
  {
   "cell_type": "code",
   "execution_count": null,
   "id": "242f9638",
   "metadata": {},
   "outputs": [],
   "source": [
    "min(trap_lats)"
   ]
  },
  {
   "cell_type": "code",
   "execution_count": 12,
   "id": "f1d4b5c7",
   "metadata": {},
   "outputs": [],
   "source": [
    "grid_lon = list(set(df_all.longitude))\n",
    "grid_lat = list(set(df_all.latitude))"
   ]
  },
  {
   "cell_type": "code",
   "execution_count": 13,
   "id": "fe8e2685",
   "metadata": {},
   "outputs": [
    {
     "name": "stdout",
     "output_type": "stream",
     "text": [
      "-123.75 -104.75\n",
      "32.25 52.0\n"
     ]
    }
   ],
   "source": [
    "print(min(grid_lon),max(grid_lon))\n",
    "print(min(grid_lat),max(grid_lat))"
   ]
  },
  {
   "cell_type": "code",
   "execution_count": 14,
   "id": "a469c673",
   "metadata": {},
   "outputs": [],
   "source": [
    "lat_coord = []\n",
    "\n",
    "for t in range(0,len(trap_lats)):\n",
    "    lat_coord.append(grid_lat[np.where(abs(trap_lats[t]- grid_lat) == min(abs(trap_lats[t]- grid_lat)))[0][0]])\n",
    "    \n",
    "lon_coord = []\n",
    "\n",
    "for t in range(0,len(trap_lats)):\n",
    "    lon_coord.append(grid_lon[np.where(abs(trap_lons[t]- grid_lon) == min(abs(trap_lons[t]- grid_lon)))[0][0]])"
   ]
  },
  {
   "cell_type": "code",
   "execution_count": 16,
   "id": "dd75c9c9",
   "metadata": {},
   "outputs": [],
   "source": [
    "coord_df = pd.DataFrame({'lat' : trap_lats, 'lon' : trap_lons,\n",
    "             'lat_coord' : lat_coord, 'lon_coord': lon_coord})"
   ]
  },
  {
   "cell_type": "code",
   "execution_count": 17,
   "id": "899ea795",
   "metadata": {},
   "outputs": [],
   "source": [
    "state_df = pd.merge(state_df,coord_df)"
   ]
  },
  {
   "cell_type": "code",
   "execution_count": 18,
   "id": "cbd6ab39",
   "metadata": {},
   "outputs": [],
   "source": [
    "state_df[\"key\"] = state_df[\"lat_coord\"].astype(str) + state_df[\"lon_coord\"].astype(str)"
   ]
  },
  {
   "cell_type": "code",
   "execution_count": 19,
   "id": "5a8fe381",
   "metadata": {},
   "outputs": [],
   "source": [
    "state_keys = list(set(state_df.key))"
   ]
  },
  {
   "cell_type": "code",
   "execution_count": 20,
   "id": "5b290fb4",
   "metadata": {},
   "outputs": [],
   "source": [
    "df_all[\"key\"] = df_all[\"latitude\"].astype(str) + df_all[\"longitude\"].astype(str)"
   ]
  },
  {
   "cell_type": "code",
   "execution_count": 21,
   "id": "0138341a",
   "metadata": {},
   "outputs": [],
   "source": [
    "trap_all = df_all[df_all['key'].isin(state_keys)]"
   ]
  },
  {
   "cell_type": "code",
   "execution_count": 22,
   "id": "692f2372",
   "metadata": {},
   "outputs": [
    {
     "data": {
      "text/html": [
       "<div>\n",
       "<style scoped>\n",
       "    .dataframe tbody tr th:only-of-type {\n",
       "        vertical-align: middle;\n",
       "    }\n",
       "\n",
       "    .dataframe tbody tr th {\n",
       "        vertical-align: top;\n",
       "    }\n",
       "\n",
       "    .dataframe thead th {\n",
       "        text-align: right;\n",
       "    }\n",
       "</style>\n",
       "<table border=\"1\" class=\"dataframe\">\n",
       "  <thead>\n",
       "    <tr style=\"text-align: right;\">\n",
       "      <th></th>\n",
       "      <th>Unnamed: 0</th>\n",
       "      <th>time</th>\n",
       "      <th>longitude</th>\n",
       "      <th>latitude</th>\n",
       "      <th>max_rh</th>\n",
       "      <th>min_rh</th>\n",
       "      <th>mean_rh</th>\n",
       "      <th>year</th>\n",
       "      <th>month</th>\n",
       "      <th>day</th>\n",
       "      <th>expver</th>\n",
       "      <th>key</th>\n",
       "    </tr>\n",
       "  </thead>\n",
       "  <tbody>\n",
       "    <tr>\n",
       "      <th>0</th>\n",
       "      <td>0</td>\n",
       "      <td>1979-01-01</td>\n",
       "      <td>-122.00</td>\n",
       "      <td>42.00</td>\n",
       "      <td>77.785230</td>\n",
       "      <td>24.227005</td>\n",
       "      <td>59.368000</td>\n",
       "      <td>1979</td>\n",
       "      <td>January</td>\n",
       "      <td>1</td>\n",
       "      <td>NaN</td>\n",
       "      <td>42.0-122.0</td>\n",
       "    </tr>\n",
       "    <tr>\n",
       "      <th>38</th>\n",
       "      <td>38</td>\n",
       "      <td>1979-01-01</td>\n",
       "      <td>-121.75</td>\n",
       "      <td>40.75</td>\n",
       "      <td>74.398820</td>\n",
       "      <td>31.522211</td>\n",
       "      <td>60.679028</td>\n",
       "      <td>1979</td>\n",
       "      <td>January</td>\n",
       "      <td>1</td>\n",
       "      <td>NaN</td>\n",
       "      <td>40.75-121.75</td>\n",
       "    </tr>\n",
       "    <tr>\n",
       "      <th>72</th>\n",
       "      <td>72</td>\n",
       "      <td>1979-01-01</td>\n",
       "      <td>-121.50</td>\n",
       "      <td>40.50</td>\n",
       "      <td>81.680016</td>\n",
       "      <td>25.483902</td>\n",
       "      <td>63.326480</td>\n",
       "      <td>1979</td>\n",
       "      <td>January</td>\n",
       "      <td>1</td>\n",
       "      <td>NaN</td>\n",
       "      <td>40.5-121.5</td>\n",
       "    </tr>\n",
       "    <tr>\n",
       "      <th>73</th>\n",
       "      <td>73</td>\n",
       "      <td>1979-01-01</td>\n",
       "      <td>-121.50</td>\n",
       "      <td>40.25</td>\n",
       "      <td>75.067300</td>\n",
       "      <td>25.874180</td>\n",
       "      <td>58.277393</td>\n",
       "      <td>1979</td>\n",
       "      <td>January</td>\n",
       "      <td>1</td>\n",
       "      <td>NaN</td>\n",
       "      <td>40.25-121.5</td>\n",
       "    </tr>\n",
       "    <tr>\n",
       "      <th>99</th>\n",
       "      <td>99</td>\n",
       "      <td>1979-01-01</td>\n",
       "      <td>-121.25</td>\n",
       "      <td>42.00</td>\n",
       "      <td>92.617830</td>\n",
       "      <td>38.046867</td>\n",
       "      <td>70.076070</td>\n",
       "      <td>1979</td>\n",
       "      <td>January</td>\n",
       "      <td>1</td>\n",
       "      <td>NaN</td>\n",
       "      <td>42.0-121.25</td>\n",
       "    </tr>\n",
       "    <tr>\n",
       "      <th>...</th>\n",
       "      <td>...</td>\n",
       "      <td>...</td>\n",
       "      <td>...</td>\n",
       "      <td>...</td>\n",
       "      <td>...</td>\n",
       "      <td>...</td>\n",
       "      <td>...</td>\n",
       "      <td>...</td>\n",
       "      <td>...</td>\n",
       "      <td>...</td>\n",
       "      <td>...</td>\n",
       "      <td>...</td>\n",
       "    </tr>\n",
       "    <tr>\n",
       "      <th>1963629</th>\n",
       "      <td>514285</td>\n",
       "      <td>2020-12-31</td>\n",
       "      <td>-105.75</td>\n",
       "      <td>33.00</td>\n",
       "      <td>43.205856</td>\n",
       "      <td>11.945610</td>\n",
       "      <td>32.822468</td>\n",
       "      <td>2020</td>\n",
       "      <td>December</td>\n",
       "      <td>31</td>\n",
       "      <td>NaN</td>\n",
       "      <td>33.0-105.75</td>\n",
       "    </tr>\n",
       "    <tr>\n",
       "      <th>1963630</th>\n",
       "      <td>514286</td>\n",
       "      <td>2020-12-31</td>\n",
       "      <td>-105.75</td>\n",
       "      <td>32.75</td>\n",
       "      <td>42.080000</td>\n",
       "      <td>13.171654</td>\n",
       "      <td>32.512000</td>\n",
       "      <td>2020</td>\n",
       "      <td>December</td>\n",
       "      <td>31</td>\n",
       "      <td>NaN</td>\n",
       "      <td>32.75-105.75</td>\n",
       "    </tr>\n",
       "    <tr>\n",
       "      <th>1963632</th>\n",
       "      <td>514288</td>\n",
       "      <td>2020-12-31</td>\n",
       "      <td>-105.50</td>\n",
       "      <td>36.25</td>\n",
       "      <td>103.036950</td>\n",
       "      <td>26.323318</td>\n",
       "      <td>73.642136</td>\n",
       "      <td>2020</td>\n",
       "      <td>December</td>\n",
       "      <td>31</td>\n",
       "      <td>NaN</td>\n",
       "      <td>36.25-105.5</td>\n",
       "    </tr>\n",
       "    <tr>\n",
       "      <th>1963645</th>\n",
       "      <td>514301</td>\n",
       "      <td>2020-12-31</td>\n",
       "      <td>-105.50</td>\n",
       "      <td>33.00</td>\n",
       "      <td>41.971897</td>\n",
       "      <td>9.765091</td>\n",
       "      <td>31.288370</td>\n",
       "      <td>2020</td>\n",
       "      <td>December</td>\n",
       "      <td>31</td>\n",
       "      <td>NaN</td>\n",
       "      <td>33.0-105.5</td>\n",
       "    </tr>\n",
       "    <tr>\n",
       "      <th>1963646</th>\n",
       "      <td>514302</td>\n",
       "      <td>2020-12-31</td>\n",
       "      <td>-105.50</td>\n",
       "      <td>32.75</td>\n",
       "      <td>39.432793</td>\n",
       "      <td>10.980591</td>\n",
       "      <td>30.459803</td>\n",
       "      <td>2020</td>\n",
       "      <td>December</td>\n",
       "      <td>31</td>\n",
       "      <td>NaN</td>\n",
       "      <td>32.75-105.5</td>\n",
       "    </tr>\n",
       "  </tbody>\n",
       "</table>\n",
       "<p>7971703 rows × 12 columns</p>\n",
       "</div>"
      ],
      "text/plain": [
       "         Unnamed: 0        time  longitude  latitude      max_rh     min_rh  \\\n",
       "0                 0  1979-01-01    -122.00     42.00   77.785230  24.227005   \n",
       "38               38  1979-01-01    -121.75     40.75   74.398820  31.522211   \n",
       "72               72  1979-01-01    -121.50     40.50   81.680016  25.483902   \n",
       "73               73  1979-01-01    -121.50     40.25   75.067300  25.874180   \n",
       "99               99  1979-01-01    -121.25     42.00   92.617830  38.046867   \n",
       "...             ...         ...        ...       ...         ...        ...   \n",
       "1963629      514285  2020-12-31    -105.75     33.00   43.205856  11.945610   \n",
       "1963630      514286  2020-12-31    -105.75     32.75   42.080000  13.171654   \n",
       "1963632      514288  2020-12-31    -105.50     36.25  103.036950  26.323318   \n",
       "1963645      514301  2020-12-31    -105.50     33.00   41.971897   9.765091   \n",
       "1963646      514302  2020-12-31    -105.50     32.75   39.432793  10.980591   \n",
       "\n",
       "           mean_rh  year     month  day  expver           key  \n",
       "0        59.368000  1979   January    1     NaN    42.0-122.0  \n",
       "38       60.679028  1979   January    1     NaN  40.75-121.75  \n",
       "72       63.326480  1979   January    1     NaN    40.5-121.5  \n",
       "73       58.277393  1979   January    1     NaN   40.25-121.5  \n",
       "99       70.076070  1979   January    1     NaN   42.0-121.25  \n",
       "...            ...   ...       ...  ...     ...           ...  \n",
       "1963629  32.822468  2020  December   31     NaN   33.0-105.75  \n",
       "1963630  32.512000  2020  December   31     NaN  32.75-105.75  \n",
       "1963632  73.642136  2020  December   31     NaN   36.25-105.5  \n",
       "1963645  31.288370  2020  December   31     NaN    33.0-105.5  \n",
       "1963646  30.459803  2020  December   31     NaN   32.75-105.5  \n",
       "\n",
       "[7971703 rows x 12 columns]"
      ]
     },
     "execution_count": 22,
     "metadata": {},
     "output_type": "execute_result"
    }
   ],
   "source": [
    "trap_all"
   ]
  },
  {
   "cell_type": "code",
   "execution_count": 23,
   "id": "742efa19",
   "metadata": {},
   "outputs": [],
   "source": [
    "trap_all.to_csv(\"/Volumes/My Book/Climate/ERA_RH/downsampled/trap_rh_data_allT.csv\")"
   ]
  },
  {
   "cell_type": "markdown",
   "id": "273648b2",
   "metadata": {},
   "source": [
    "### Missing small piece of Oregon"
   ]
  },
  {
   "cell_type": "code",
   "execution_count": 15,
   "id": "a78d4648",
   "metadata": {},
   "outputs": [],
   "source": [
    "state_code = \"OR\""
   ]
  },
  {
   "cell_type": "code",
   "execution_count": 16,
   "id": "860d23de",
   "metadata": {},
   "outputs": [],
   "source": [
    "f80 = xr.open_dataset(\"/Volumes/My Book/Climate/missing_updates/\"+state_code+\"_RH_missing1_1980-1989.nc\", decode_times = True)\n",
    "f90 = xr.open_dataset(\"/Volumes/My Book/Climate/missing_updates/\"+state_code+\"_RH_missing1_1990-1999.nc\", decode_times = True)\n",
    "f00 = xr.open_dataset(\"/Volumes/My Book/Climate/missing_updates/\"+state_code+\"_RH_missing1_2000-2009.nc\", decode_times = True)\n",
    "f10 = xr.open_dataset(\"/Volumes/My Book/Climate/missing_updates/\"+state_code+\"_RH_missing1_2010-2020.nc\", decode_times = True)"
   ]
  },
  {
   "cell_type": "code",
   "execution_count": 19,
   "id": "76d36e73",
   "metadata": {},
   "outputs": [],
   "source": [
    "df80 = downsample_df(f80)\n",
    "df90 = downsample_df(f90)\n",
    "df00 = downsample_df(f00)\n",
    "df10 = downsample_df(f10)"
   ]
  },
  {
   "cell_type": "code",
   "execution_count": 21,
   "id": "29f696ac",
   "metadata": {},
   "outputs": [],
   "source": [
    "df_all = pd.concat([df80,df90,df00,df10])"
   ]
  },
  {
   "cell_type": "code",
   "execution_count": null,
   "id": "2326a954",
   "metadata": {},
   "outputs": [],
   "source": [
    "df_all[\"key\"] = df_all[\"latitude\"].astype(str) + df_all[\"longitude\"].astype(str)"
   ]
  },
  {
   "cell_type": "code",
   "execution_count": null,
   "id": "9c9155fc",
   "metadata": {},
   "outputs": [],
   "source": [
    "trap_all = df_all[df_all['key'].isin(state_keys)]"
   ]
  },
  {
   "cell_type": "code",
   "execution_count": 33,
   "id": "71f7a81b",
   "metadata": {},
   "outputs": [],
   "source": [
    "trap_all.to_csv(\"/Volumes/My Book/Climate/ERA_RH/downsampled/trap_rh_data_missing.csv\")"
   ]
  },
  {
   "cell_type": "code",
   "execution_count": null,
   "id": "57407a41",
   "metadata": {},
   "outputs": [],
   "source": []
  }
 ],
 "metadata": {
  "kernelspec": {
   "display_name": "base",
   "language": "python",
   "name": "python3"
  },
  "language_info": {
   "codemirror_mode": {
    "name": "ipython",
    "version": 3
   },
   "file_extension": ".py",
   "mimetype": "text/x-python",
   "name": "python",
   "nbconvert_exporter": "python",
   "pygments_lexer": "ipython3",
   "version": "3.7.13"
  },
  "vscode": {
   "interpreter": {
    "hash": "7f3d861790d663335a24d21a8cd8792fcbfe11b859c172ce0114b7787222c9a7"
   }
  }
 },
 "nbformat": 4,
 "nbformat_minor": 5
}
